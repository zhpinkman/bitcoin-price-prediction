{
 "cells": [
  {
   "cell_type": "markdown",
   "metadata": {
    "id": "bqYcdTmv--6n"
   },
   "source": [
    "### Importing the required libraries"
   ]
  },
  {
   "cell_type": "code",
   "execution_count": 1,
   "metadata": {
    "id": "mQ-Y-dCZ08G-"
   },
   "outputs": [],
   "source": [
    "import pandas as pd\n",
    "import datetime\n",
    "import pandas_datareader as pdr\n",
    "from pandas import Series, DataFrame\n",
    "import matplotlib.pyplot as plt\n",
    "import seaborn as sns\n",
    "import numpy as np\n",
    "from sklearn.preprocessing import MinMaxScaler, StandardScaler, PowerTransformer\n",
    "from sklearn.metrics import mean_squared_error, mean_absolute_error"
   ]
  },
  {
   "cell_type": "code",
   "execution_count": 2,
   "metadata": {
    "id": "cPV2UNtu1Fz2"
   },
   "outputs": [],
   "source": [
    "start = datetime.datetime(2014, 9, 20)\n",
    "end = datetime.datetime(2021, 5, 20)"
   ]
  },
  {
   "cell_type": "code",
   "execution_count": 3,
   "metadata": {
    "id": "f-t8fjRX13p7"
   },
   "outputs": [
    {
     "data": {
      "text/html": [
       "<div>\n",
       "<style scoped>\n",
       "    .dataframe tbody tr th:only-of-type {\n",
       "        vertical-align: middle;\n",
       "    }\n",
       "\n",
       "    .dataframe tbody tr th {\n",
       "        vertical-align: top;\n",
       "    }\n",
       "\n",
       "    .dataframe thead tr th {\n",
       "        text-align: left;\n",
       "    }\n",
       "\n",
       "    .dataframe thead tr:last-of-type th {\n",
       "        text-align: right;\n",
       "    }\n",
       "</style>\n",
       "<table border=\"1\" class=\"dataframe\">\n",
       "  <thead>\n",
       "    <tr>\n",
       "      <th>Attributes</th>\n",
       "      <th>Adj Close</th>\n",
       "      <th>Close</th>\n",
       "      <th>High</th>\n",
       "      <th>Low</th>\n",
       "      <th>Open</th>\n",
       "      <th>Volume</th>\n",
       "    </tr>\n",
       "    <tr>\n",
       "      <th>Symbols</th>\n",
       "      <th>BTC-USD</th>\n",
       "      <th>BTC-USD</th>\n",
       "      <th>BTC-USD</th>\n",
       "      <th>BTC-USD</th>\n",
       "      <th>BTC-USD</th>\n",
       "      <th>BTC-USD</th>\n",
       "    </tr>\n",
       "    <tr>\n",
       "      <th>Date</th>\n",
       "      <th></th>\n",
       "      <th></th>\n",
       "      <th></th>\n",
       "      <th></th>\n",
       "      <th></th>\n",
       "      <th></th>\n",
       "    </tr>\n",
       "  </thead>\n",
       "  <tbody>\n",
       "    <tr>\n",
       "      <th>2021-05-16</th>\n",
       "      <td>43537.511719</td>\n",
       "      <td>43537.511719</td>\n",
       "      <td>46623.558594</td>\n",
       "      <td>42207.289062</td>\n",
       "      <td>46415.898438</td>\n",
       "      <td>7.490364e+10</td>\n",
       "    </tr>\n",
       "    <tr>\n",
       "      <th>2021-05-17</th>\n",
       "      <td>42909.402344</td>\n",
       "      <td>42909.402344</td>\n",
       "      <td>45812.457031</td>\n",
       "      <td>42367.832031</td>\n",
       "      <td>43488.058594</td>\n",
       "      <td>5.618737e+10</td>\n",
       "    </tr>\n",
       "    <tr>\n",
       "      <th>2021-05-18</th>\n",
       "      <td>37002.441406</td>\n",
       "      <td>37002.441406</td>\n",
       "      <td>43546.117188</td>\n",
       "      <td>30681.496094</td>\n",
       "      <td>42944.976562</td>\n",
       "      <td>1.263581e+11</td>\n",
       "    </tr>\n",
       "    <tr>\n",
       "      <th>2021-05-19</th>\n",
       "      <td>40782.738281</td>\n",
       "      <td>40782.738281</td>\n",
       "      <td>42462.984375</td>\n",
       "      <td>35050.617188</td>\n",
       "      <td>36753.667969</td>\n",
       "      <td>8.828194e+10</td>\n",
       "    </tr>\n",
       "    <tr>\n",
       "      <th>2021-05-20</th>\n",
       "      <td>37304.691406</td>\n",
       "      <td>37304.691406</td>\n",
       "      <td>42172.171875</td>\n",
       "      <td>33616.453125</td>\n",
       "      <td>40596.949219</td>\n",
       "      <td>8.205162e+10</td>\n",
       "    </tr>\n",
       "  </tbody>\n",
       "</table>\n",
       "</div>"
      ],
      "text/plain": [
       "Attributes     Adj Close         Close          High           Low  \\\n",
       "Symbols          BTC-USD       BTC-USD       BTC-USD       BTC-USD   \n",
       "Date                                                                 \n",
       "2021-05-16  43537.511719  43537.511719  46623.558594  42207.289062   \n",
       "2021-05-17  42909.402344  42909.402344  45812.457031  42367.832031   \n",
       "2021-05-18  37002.441406  37002.441406  43546.117188  30681.496094   \n",
       "2021-05-19  40782.738281  40782.738281  42462.984375  35050.617188   \n",
       "2021-05-20  37304.691406  37304.691406  42172.171875  33616.453125   \n",
       "\n",
       "Attributes          Open        Volume  \n",
       "Symbols          BTC-USD       BTC-USD  \n",
       "Date                                    \n",
       "2021-05-16  46415.898438  7.490364e+10  \n",
       "2021-05-17  43488.058594  5.618737e+10  \n",
       "2021-05-18  42944.976562  1.263581e+11  \n",
       "2021-05-19  36753.667969  8.828194e+10  \n",
       "2021-05-20  40596.949219  8.205162e+10  "
      ]
     },
     "execution_count": 3,
     "metadata": {},
     "output_type": "execute_result"
    }
   ],
   "source": [
    "df = pdr.get_data_yahoo(['BTC-USD'], start=start, end=end)\n",
    "df.tail()"
   ]
  },
  {
   "cell_type": "code",
   "execution_count": 4,
   "metadata": {
    "colab": {
     "base_uri": "https://localhost:8080/",
     "height": 143
    },
    "id": "KXEYGmI2Awys",
    "outputId": "6d400563-5e6b-44bf-d720-be615c019349"
   },
   "outputs": [
    {
     "data": {
      "text/html": [
       "<div>\n",
       "<style scoped>\n",
       "    .dataframe tbody tr th:only-of-type {\n",
       "        vertical-align: middle;\n",
       "    }\n",
       "\n",
       "    .dataframe tbody tr th {\n",
       "        vertical-align: top;\n",
       "    }\n",
       "\n",
       "    .dataframe thead th {\n",
       "        text-align: right;\n",
       "    }\n",
       "</style>\n",
       "<table border=\"1\" class=\"dataframe\">\n",
       "  <thead>\n",
       "    <tr style=\"text-align: right;\">\n",
       "      <th>Attributes</th>\n",
       "      <th>Close</th>\n",
       "      <th>High</th>\n",
       "      <th>Low</th>\n",
       "      <th>Open</th>\n",
       "      <th>Volume</th>\n",
       "    </tr>\n",
       "  </thead>\n",
       "  <tbody>\n",
       "    <tr>\n",
       "      <th>0</th>\n",
       "      <td>408.903992</td>\n",
       "      <td>423.295990</td>\n",
       "      <td>389.882996</td>\n",
       "      <td>394.673004</td>\n",
       "      <td>36863600.0</td>\n",
       "    </tr>\n",
       "    <tr>\n",
       "      <th>1</th>\n",
       "      <td>398.821014</td>\n",
       "      <td>412.425995</td>\n",
       "      <td>393.181000</td>\n",
       "      <td>408.084991</td>\n",
       "      <td>26580100.0</td>\n",
       "    </tr>\n",
       "    <tr>\n",
       "      <th>2</th>\n",
       "      <td>402.152008</td>\n",
       "      <td>406.915985</td>\n",
       "      <td>397.130005</td>\n",
       "      <td>399.100006</td>\n",
       "      <td>24127600.0</td>\n",
       "    </tr>\n",
       "  </tbody>\n",
       "</table>\n",
       "</div>"
      ],
      "text/plain": [
       "Attributes       Close        High         Low        Open      Volume\n",
       "0           408.903992  423.295990  389.882996  394.673004  36863600.0\n",
       "1           398.821014  412.425995  393.181000  408.084991  26580100.0\n",
       "2           402.152008  406.915985  397.130005  399.100006  24127600.0"
      ]
     },
     "execution_count": 4,
     "metadata": {},
     "output_type": "execute_result"
    }
   ],
   "source": [
    "df.reset_index(inplace=True)\n",
    "df.columns = df.columns.droplevel(level=1)\n",
    "df.drop(columns=['Date', 'Adj Close'], inplace=True, axis=1)\n",
    "df.head(3)"
   ]
  },
  {
   "cell_type": "code",
   "execution_count": 5,
   "metadata": {
    "colab": {
     "base_uri": "https://localhost:8080/"
    },
    "id": "NIBShmrhCjuI",
    "outputId": "24a1c996-eaa3-4cb8-8303-2aba980f4b74"
   },
   "outputs": [
    {
     "name": "stdout",
     "output_type": "stream",
     "text": [
      "<class 'pandas.core.frame.DataFrame'>\n",
      "RangeIndex: 2432 entries, 0 to 2431\n",
      "Data columns (total 5 columns):\n",
      " #   Column  Non-Null Count  Dtype  \n",
      "---  ------  --------------  -----  \n",
      " 0   Close   2432 non-null   float64\n",
      " 1   High    2432 non-null   float64\n",
      " 2   Low     2432 non-null   float64\n",
      " 3   Open    2432 non-null   float64\n",
      " 4   Volume  2432 non-null   float64\n",
      "dtypes: float64(5)\n",
      "memory usage: 95.1 KB\n"
     ]
    }
   ],
   "source": [
    "df.info()"
   ]
  },
  {
   "cell_type": "code",
   "execution_count": 6,
   "metadata": {
    "colab": {
     "base_uri": "https://localhost:8080/",
     "height": 612
    },
    "id": "4axLLTqP6Tkd",
    "outputId": "f0e92e30-30e7-4b68-f0fa-2c745cf3dc79"
   },
   "outputs": [
    {
     "data": {
      "text/plain": [
       "<matplotlib.legend.Legend at 0x7fe323405e80>"
      ]
     },
     "execution_count": 6,
     "metadata": {},
     "output_type": "execute_result"
    },
    {
     "data": {
      "image/png": "[encoded data removed]",
      "text/plain": [
       "<Figure size 1080x720 with 1 Axes>"
      ]
     },
     "metadata": {
      "needs_background": "light"
     },
     "output_type": "display_data"
    }
   ],
   "source": [
    "plt.figure(figsize=(15, 10))\n",
    "plt.plot(df['High'], label='High', color='salmon')\n",
    "plt.plot(df['Low'], label='Low', color='skyblue')\n",
    "plt.fill_between(y1=df['Low'], y2=df['High'], x=np.arange(df.shape[0]))\n",
    "plt.xticks([])\n",
    "plt.title('Price of BitCoin in the given period')\n",
    "plt.ylabel('Price in $')\n",
    "plt.legend()"
   ]
  },
  {
   "cell_type": "code",
   "execution_count": 7,
   "metadata": {
    "id": "WQ1o5kiJRexF"
   },
   "outputs": [],
   "source": [
    "num_test_data = 7\n",
    "period = 24\n",
    "n_data = df.shape[0]"
   ]
  },
  {
   "cell_type": "code",
   "execution_count": 8,
   "metadata": {
    "id": "jLTuIhyDdcW-"
   },
   "outputs": [],
   "source": [
    "df['index'] = np.arange(df.shape[0])\n",
    "df.set_index('index', inplace=True)"
   ]
  },
  {
   "cell_type": "markdown",
   "metadata": {
    "id": "CoLVVIfSSQ_6"
   },
   "source": [
    "### Splitting the train and test data"
   ]
  },
  {
   "cell_type": "code",
   "execution_count": 9,
   "metadata": {
    "id": "YkOGBBj3QZ0U"
   },
   "outputs": [],
   "source": [
    "test_data_indices_targets = np.random.choice(np.arange(period, n_data), num_test_data)"
   ]
  },
  {
   "cell_type": "code",
   "execution_count": 10,
   "metadata": {
    "id": "JGS_pbUFUJjf"
   },
   "outputs": [],
   "source": [
    "test_data_indices = []\n",
    "for index in test_data_indices_targets:\n",
    "    test_data_indices.append([item for item in range(index-period, index+1)])\n",
    "test_data_indices_agg = [item for sub_list in test_data_indices for item in sub_list]"
   ]
  },
  {
   "cell_type": "code",
   "execution_count": 11,
   "metadata": {
    "id": "gTsVouXlWm8I"
   },
   "outputs": [],
   "source": [
    "train_data_indices_agg = [index for index in np.arange(n_data) if index not in test_data_indices_agg]"
   ]
  },
  {
   "cell_type": "code",
   "execution_count": 12,
   "metadata": {
    "id": "TgDK5QP3aW1U"
   },
   "outputs": [],
   "source": [
    "def are_all_days_included(index, train_data_indices_agg):\n",
    "    for item in range(index-period, index+1):\n",
    "        if item not in train_data_indices_agg:\n",
    "            return False\n",
    "    return True"
   ]
  },
  {
   "cell_type": "code",
   "execution_count": 13,
   "metadata": {
    "id": "_lNw3A5OZtj0"
   },
   "outputs": [],
   "source": [
    "train_data_indices = []\n",
    "for index in train_data_indices_agg:\n",
    "    if index >= period and are_all_days_included(index, train_data_indices_agg):\n",
    "        train_data_indices.append([item for item in range(index-period, index+1)])"
   ]
  },
  {
   "cell_type": "code",
   "execution_count": 14,
   "metadata": {
    "id": "QZTrXKQ8bK7s"
   },
   "outputs": [],
   "source": [
    "train_data_indices_agg = [item for sub_list in train_data_indices for item in sub_list]"
   ]
  },
  {
   "cell_type": "code",
   "execution_count": 15,
   "metadata": {
    "colab": {
     "base_uri": "https://localhost:8080/"
    },
    "id": "ltGELK4BbEiX",
    "outputId": "852f7fac-9bdc-4c9c-bc97-aae33a37aba9"
   },
   "outputs": [
    {
     "data": {
      "text/plain": [
       "(2085, 7)"
      ]
     },
     "execution_count": 15,
     "metadata": {},
     "output_type": "execute_result"
    }
   ],
   "source": [
    "len(train_data_indices), len(test_data_indices)"
   ]
  },
  {
   "cell_type": "code",
   "execution_count": 16,
   "metadata": {
    "id": "xdaDskfsR6rF"
   },
   "outputs": [],
   "source": [
    "df_train = df.iloc[train_data_indices_agg].drop_duplicates()\n",
    "df_test = df.iloc[test_data_indices_agg].drop_duplicates()"
   ]
  },
  {
   "cell_type": "markdown",
   "metadata": {
    "id": "zbs1PYXlSLLn"
   },
   "source": [
    "### Fitting the MinMaxScaler on the training Data"
   ]
  },
  {
   "cell_type": "code",
   "execution_count": 17,
   "metadata": {
    "colab": {
     "base_uri": "https://localhost:8080/"
    },
    "id": "0yoGMOp8SJck",
    "outputId": "99ba809a-bbd4-442c-d72b-12b3dd456e4e"
   },
   "outputs": [
    {
     "data": {
      "text/plain": [
       "MinMaxScaler()"
      ]
     },
     "execution_count": 17,
     "metadata": {},
     "output_type": "execute_result"
    }
   ],
   "source": [
    "minMaxScaler = MinMaxScaler()\n",
    "minMaxScaler.fit(df_train)"
   ]
  },
  {
   "cell_type": "code",
   "execution_count": 18,
   "metadata": {
    "id": "MSyHSeeFSbHV"
   },
   "outputs": [],
   "source": [
    "df_train = pd.DataFrame(minMaxScaler.transform(df_train.values), columns=df_train.columns, index=df_train.index)\n",
    "df_test = pd.DataFrame(minMaxScaler.transform(df_test.values), columns=df_test.columns, index=df_test.index)"
   ]
  },
  {
   "cell_type": "code",
   "execution_count": 19,
   "metadata": {},
   "outputs": [],
   "source": [
    "# df_train = np.log(df_train)\n",
    "# df_test = np.log(df_test)"
   ]
  },
  {
   "cell_type": "code",
   "execution_count": 20,
   "metadata": {},
   "outputs": [
    {
     "data": {
      "text/html": [
       "<div>\n",
       "<style scoped>\n",
       "    .dataframe tbody tr th:only-of-type {\n",
       "        vertical-align: middle;\n",
       "    }\n",
       "\n",
       "    .dataframe tbody tr th {\n",
       "        vertical-align: top;\n",
       "    }\n",
       "\n",
       "    .dataframe thead th {\n",
       "        text-align: right;\n",
       "    }\n",
       "</style>\n",
       "<table border=\"1\" class=\"dataframe\">\n",
       "  <thead>\n",
       "    <tr style=\"text-align: right;\">\n",
       "      <th>Attributes</th>\n",
       "      <th>Close</th>\n",
       "      <th>High</th>\n",
       "      <th>Low</th>\n",
       "      <th>Open</th>\n",
       "      <th>Volume</th>\n",
       "    </tr>\n",
       "    <tr>\n",
       "      <th>index</th>\n",
       "      <th></th>\n",
       "      <th></th>\n",
       "      <th></th>\n",
       "      <th></th>\n",
       "      <th></th>\n",
       "    </tr>\n",
       "  </thead>\n",
       "  <tbody>\n",
       "    <tr>\n",
       "      <th>0</th>\n",
       "      <td>0.003645</td>\n",
       "      <td>0.003272</td>\n",
       "      <td>0.003520</td>\n",
       "      <td>0.003438</td>\n",
       "      <td>0.000245</td>\n",
       "    </tr>\n",
       "    <tr>\n",
       "      <th>1</th>\n",
       "      <td>0.003485</td>\n",
       "      <td>0.003104</td>\n",
       "      <td>0.003573</td>\n",
       "      <td>0.003650</td>\n",
       "      <td>0.000164</td>\n",
       "    </tr>\n",
       "    <tr>\n",
       "      <th>2</th>\n",
       "      <td>0.003538</td>\n",
       "      <td>0.003019</td>\n",
       "      <td>0.003637</td>\n",
       "      <td>0.003508</td>\n",
       "      <td>0.000144</td>\n",
       "    </tr>\n",
       "  </tbody>\n",
       "</table>\n",
       "</div>"
      ],
      "text/plain": [
       "Attributes     Close      High       Low      Open    Volume\n",
       "index                                                       \n",
       "0           0.003645  0.003272  0.003520  0.003438  0.000245\n",
       "1           0.003485  0.003104  0.003573  0.003650  0.000164\n",
       "2           0.003538  0.003019  0.003637  0.003508  0.000144"
      ]
     },
     "execution_count": 20,
     "metadata": {},
     "output_type": "execute_result"
    }
   ],
   "source": [
    "df_train.head(3)"
   ]
  },
  {
   "cell_type": "markdown",
   "metadata": {
    "id": "sosqI3wygs88"
   },
   "source": [
    "### Making the data ready"
   ]
  },
  {
   "cell_type": "code",
   "execution_count": 21,
   "metadata": {
    "colab": {
     "base_uri": "https://localhost:8080/",
     "height": 599
    },
    "id": "G--BmuB6GNcr",
    "outputId": "10c38cbe-090b-4f06-afaa-6dc735882b16"
   },
   "outputs": [],
   "source": [
    "y = df_train.pop('Close')\n",
    "X = df_train.copy()\n",
    "\n",
    "_y = df_test.pop('Close')\n",
    "_X = df_test.copy()"
   ]
  },
  {
   "cell_type": "markdown",
   "metadata": {
    "id": "JXSvT-VRNEfU"
   },
   "source": [
    "### Separating the dataset into periods of 24 days and making the X_dataset and y_dataset"
   ]
  },
  {
   "cell_type": "code",
   "execution_count": 22,
   "metadata": {
    "id": "bMhihEKJHVHl"
   },
   "outputs": [],
   "source": [
    "X_train = np.zeros((len(train_data_indices), period, 4))\n",
    "y_train = np.zeros((len(train_data_indices)))\n",
    "for index, batch in enumerate(train_data_indices):\n",
    "    X_train[index] = X.loc[batch[:-1]].values.reshape(period, 4)\n",
    "    y_train[index] = y.loc[batch[-1]]"
   ]
  },
  {
   "cell_type": "code",
   "execution_count": 23,
   "metadata": {},
   "outputs": [],
   "source": [
    "X_test = np.zeros((len(test_data_indices), period, 4))\n",
    "y_test = np.zeros((len(test_data_indices)))\n",
    "for index, batch in enumerate(test_data_indices):\n",
    "    X_test[index] = _X.loc[batch[:-1]].values.reshape(period, 4)\n",
    "    y_test[index] = _y.loc[batch[-1]]"
   ]
  },
  {
   "cell_type": "code",
   "execution_count": 24,
   "metadata": {
    "id": "C6fXWXlZMYDv"
   },
   "outputs": [
    {
     "data": {
      "text/plain": [
       "((2085, 24, 4), (2085,), (7, 24, 4), (7,))"
      ]
     },
     "execution_count": 24,
     "metadata": {},
     "output_type": "execute_result"
    }
   ],
   "source": [
    "X_train.shape, y_train.shape, X_test.shape, y_test.shape"
   ]
  },
  {
   "cell_type": "markdown",
   "metadata": {},
   "source": [
    "### Creating the Data Loaders"
   ]
  },
  {
   "cell_type": "code",
   "execution_count": 25,
   "metadata": {},
   "outputs": [],
   "source": [
    "import torch\n",
    "import torch.nn as nn\n",
    "import torch.nn.functional as F\n",
    "from torch.utils import data\n",
    "import re\n",
    "from termcolor import colored\n",
    "from tqdm.notebook import tqdm\n",
    "import torch.optim as optim\n",
    "from sklearn.metrics import accuracy_score, classification_report, confusion_matrix, plot_confusion_matrix\n",
    "from sklearn.model_selection import train_test_split\n",
    "from torch.utils.data import TensorDataset, DataLoader, RandomSampler, SequentialSampler"
   ]
  },
  {
   "cell_type": "code",
   "execution_count": 26,
   "metadata": {},
   "outputs": [],
   "source": [
    "X_train, X_val, y_train, y_val = train_test_split(X_train, y_train, test_size=0.1, random_state=42, shuffle=True)"
   ]
  },
  {
   "cell_type": "code",
   "execution_count": 27,
   "metadata": {},
   "outputs": [
    {
     "data": {
      "text/plain": [
       "((1876, 24, 4), (209, 24, 4), (1876,), (209,))"
      ]
     },
     "execution_count": 27,
     "metadata": {},
     "output_type": "execute_result"
    }
   ],
   "source": [
    "X_train.shape, X_val.shape, y_train.shape, y_val.shape"
   ]
  },
  {
   "cell_type": "code",
   "execution_count": 28,
   "metadata": {},
   "outputs": [],
   "source": [
    "batch_size = 64\n",
    "\n",
    "X_train = torch.tensor(X_train)\n",
    "y_train = torch.tensor(y_train)\n",
    "\n",
    "X_val = torch.tensor(X_val)\n",
    "y_val = torch.tensor(y_val)\n",
    "\n",
    "X_test = torch.tensor(X_test)\n",
    "y_test = torch.tensor(y_test)\n",
    "\n",
    "train_data = TensorDataset(X_train, y_train)\n",
    "train_dataloader = DataLoader(train_data, batch_size=batch_size)\n",
    "\n",
    "val_data = TensorDataset(X_val, y_val)\n",
    "val_dataloader = DataLoader(val_data, batch_size=batch_size)\n",
    "\n",
    "test_data = TensorDataset(X_test, y_test)\n",
    "test_dataloader = DataLoader(test_data, batch_size=batch_size)"
   ]
  },
  {
   "cell_type": "code",
   "execution_count": 29,
   "metadata": {},
   "outputs": [
    {
     "name": "stdout",
     "output_type": "stream",
     "text": [
      "the shape of the train data tensor: torch.Size([64, 24, 4])\n",
      "the shape of the train target tensor: torch.Size([64])\n"
     ]
    }
   ],
   "source": [
    "for data, target in train_dataloader:\n",
    "    print('the shape of the train data tensor: {}'.format(data.shape))\n",
    "    print('the shape of the train target tensor: {}'.format(target.shape))\n",
    "    break"
   ]
  },
  {
   "cell_type": "markdown",
   "metadata": {},
   "source": [
    "### Utility Functions"
   ]
  },
  {
   "cell_type": "code",
   "execution_count": 30,
   "metadata": {},
   "outputs": [],
   "source": [
    "def plot_train_test_metric(train_acc, val_acc, xlabel, ylabel, title, metric, ax):\n",
    "    ax.plot(train_acc, color='salmon', label='train {}'.format(metric), marker='o', linewidth=1)\n",
    "    ax.annotate(str(np.round(train_acc[-1], 5)), (len(train_acc) - .8, train_acc[-1]), color='salmon')\n",
    "    ax.plot(val_acc, color='skyblue', label='val {}'.format(metric), marker='o', linewidth=1)\n",
    "    ax.annotate(str(np.round(val_acc[-1], 5)), (len(val_acc) - .8, val_acc[-1]), color='skyblue')\n",
    "    ax.spines['top'].set_visible(False)\n",
    "    ax.spines['right'].set_visible(False)\n",
    "    ax.legend()\n",
    "    ax.set_xlabel(xlabel)\n",
    "    ax.set_ylabel(ylabel)\n",
    "    ax.set_title(title)\n",
    "    ax.grid(axis='y')"
   ]
  },
  {
   "cell_type": "code",
   "execution_count": 31,
   "metadata": {},
   "outputs": [],
   "source": [
    "def inverse_the_outputs(outputs, minMaxScaler):\n",
    "#     outputs = np.exp(outputs)\n",
    "    outputs = np.array(outputs.tolist())\n",
    "    temp = pd.DataFrame({\n",
    "    'Close': outputs, \n",
    "    'High': np.zeros_like(outputs), \n",
    "    'Low': np.zeros_like(outputs), \n",
    "    'Open': np.zeros_like(outputs), \n",
    "    'Volume': np.zeros_like(outputs) \n",
    "    })\n",
    "    outputs = pd.DataFrame(minMaxScaler.inverse_transform(temp.values), columns=temp.columns).Close.values\n",
    "    return outputs"
   ]
  },
  {
   "cell_type": "code",
   "execution_count": 32,
   "metadata": {},
   "outputs": [],
   "source": [
    "def plot_actual_vs_predicted(predicted, actuals, ax, title):\n",
    "    ax.plot(predicted, label='predicted', c='salmon', marker='o', linewidth=1)\n",
    "    ax.plot(actuals, label='actual', c='skyblue', marker='o', linewidth=1)\n",
    "    ax.grid(axis='x')\n",
    "    ax.set_title('Difference betweent the actual price of bitcoin - {}'.format(title))\n",
    "    ax.legend()"
   ]
  },
  {
   "cell_type": "markdown",
   "metadata": {},
   "source": [
    "### Model Specification (LSTM)"
   ]
  },
  {
   "cell_type": "code",
   "execution_count": 33,
   "metadata": {},
   "outputs": [],
   "source": [
    "class Lstm_model(nn.Module):\n",
    "    \n",
    "    def __init__(self, n_features, hidden_dim, n_output, dropout_rate):\n",
    "        super(Lstm_model, self).__init__()\n",
    "        self.hidden_dim = hidden_dim\n",
    "        self.dropout_rate = dropout_rate\n",
    "        \n",
    "        self.lstm = nn.LSTM(input_size=n_features, hidden_size=hidden_dim[0], batch_first=True)\n",
    "        self.fc1 = nn.Linear(hidden_dim[0], hidden_dim[1])\n",
    "        if dropout_rate != None:\n",
    "            self.dropout = nn.Dropout(dropout_rate)\n",
    "        self.fc2 = nn.Linear(hidden_dim[1], n_output)\n",
    "\n",
    "    def forward(self, x):\n",
    "        x, _ = self.lstm(x)\n",
    "        x = self.fc1(x[:, -1, :])\n",
    "        x = nn.ReLU()(x)\n",
    "        if self.dropout_rate != None: \n",
    "            x = self.dropout(x)\n",
    "        x = torch.squeeze(self.fc2(x), 1)\n",
    "        return x"
   ]
  },
  {
   "cell_type": "code",
   "execution_count": 34,
   "metadata": {},
   "outputs": [],
   "source": [
    "lstm_model = Lstm_model(4, [100, 50], 1, None)\n",
    "output = lstm_model(torch.rand((64, 24, 4)))"
   ]
  },
  {
   "cell_type": "markdown",
   "metadata": {},
   "source": [
    "### Model Specification (GRU)"
   ]
  },
  {
   "cell_type": "code",
   "execution_count": 35,
   "metadata": {},
   "outputs": [],
   "source": [
    "class Gru_model(nn.Module):\n",
    "    \n",
    "    def __init__(self, n_features, hidden_dim, n_output, dropout_rate):\n",
    "        super(Gru_model, self).__init__()\n",
    "        self.hidden_dim = hidden_dim\n",
    "        self.dropout_rate = dropout_rate\n",
    "        \n",
    "        self.gru = nn.GRU(input_size=n_features, hidden_size=hidden_dim[0], batch_first=True)\n",
    "        self.fc1 = nn.Linear(hidden_dim[0], hidden_dim[1])\n",
    "        if dropout_rate != None:\n",
    "            self.dropout = nn.Dropout(dropout_rate)\n",
    "        self.fc2 = nn.Linear(hidden_dim[1], n_output)\n",
    "\n",
    "    def forward(self, x):\n",
    "        x, _ = self.gru(x)\n",
    "        x = self.fc1(x[:, -1, :])\n",
    "        x = nn.ReLU()(x)\n",
    "        if self.dropout_rate != None: \n",
    "            x = self.dropout(x)\n",
    "        x = torch.squeeze(self.fc2(x), 1)\n",
    "        return x"
   ]
  },
  {
   "cell_type": "markdown",
   "metadata": {},
   "source": [
    "### Model Specification (RNN)"
   ]
  },
  {
   "cell_type": "code",
   "execution_count": 36,
   "metadata": {},
   "outputs": [],
   "source": [
    "class RNN_model(nn.Module):\n",
    "    \n",
    "    def __init__(self, n_features, hidden_dim, n_output, dropout_rate):\n",
    "        super(RNN_model, self).__init__()\n",
    "        self.hidden_dim = hidden_dim\n",
    "        self.dropout_rate = dropout_rate\n",
    "        \n",
    "        self.rnn = nn.RNN(input_size=n_features, hidden_size=hidden_dim[0], batch_first=True)\n",
    "        self.fc1 = nn.Linear(hidden_dim[0], hidden_dim[1])\n",
    "        if dropout_rate != None:\n",
    "            self.dropout = nn.Dropout(dropout_rate)\n",
    "        self.fc2 = nn.Linear(hidden_dim[1], n_output)\n",
    "\n",
    "    def forward(self, x):\n",
    "        x, _ = self.rnn(x)\n",
    "        x = self.fc1(x[:, -1, :])\n",
    "        x = nn.ReLU()(x)\n",
    "        if self.dropout_rate != None:\n",
    "            x = self.dropout(x)\n",
    "        x = torch.squeeze(self.fc2(x), 1)\n",
    "        return x"
   ]
  },
  {
   "cell_type": "code",
   "execution_count": 37,
   "metadata": {},
   "outputs": [],
   "source": [
    "def initialize_model(model_name, n_features, hidden_dim, n_output, epochs, optimizer_name, dropout_rate):\n",
    "    if model_name == 'lstm':\n",
    "        model = Lstm_model(\n",
    "            n_features=n_features, \n",
    "            hidden_dim=hidden_dim, \n",
    "            n_output=n_output,\n",
    "            dropout_rate=dropout_rate\n",
    "        )\n",
    "    elif model_name == 'gru': \n",
    "        model = Gru_model(\n",
    "            n_features=n_features, \n",
    "            hidden_dim=hidden_dim, \n",
    "            n_output=n_output,\n",
    "            dropout_rate=dropout_rate\n",
    "        )\n",
    "    elif model_name == 'rnn': \n",
    "        model = RNN_model(\n",
    "            n_features=n_features, \n",
    "            hidden_dim=hidden_dim, \n",
    "            n_output=n_output,\n",
    "            dropout_rate=dropout_rate\n",
    "        )\n",
    "    elif model_name == 'mlp':\n",
    "        model = MLP_model(\n",
    "            n_features=n_features, \n",
    "            hidden_dim=hidden_dim, \n",
    "            n_output=n_output,\n",
    "            dropout_rate=dropout_rate\n",
    "        )\n",
    "    elif model_name == 'gru_extended':\n",
    "        model = Gru_extended_layers_model(\n",
    "            n_features=n_features, \n",
    "            hidden_dim=hidden_dim, \n",
    "            n_output=n_output,\n",
    "            dropout_rate=dropout_rate\n",
    "        )    \n",
    "    elif model_name == 'cnn_lstm':\n",
    "        model = CNN_LSTM_model(\n",
    "            n_features=n_features, \n",
    "            hidden_dim=hidden_dim, \n",
    "            n_output=n_output,\n",
    "            dropout_rate=dropout_rate\n",
    "        )\n",
    "\n",
    "    # Create the optimizer\n",
    "    if optimizer_name == 'adam':\n",
    "        optimizer = optim.Adam(model.parameters(), lr=0.001)\n",
    "    elif optimizer_name == 'sgd':\n",
    "        optimizer = optim.SGD(model.parameters(), lr=0.001)\n",
    "    elif optimizer_name== 'rmsprop':\n",
    "        optimizer = optim.RMSprop(model.parameters(), lr=0.001)\n",
    "    elif optimizer_name == 'adagrad': \n",
    "        optimizer = optim.Adagrad(model.parameters(), lr=0.001)\n",
    "    \n",
    "    return model, optimizer"
   ]
  },
  {
   "cell_type": "markdown",
   "metadata": {},
   "source": [
    "### Training and Evaluating the Model"
   ]
  },
  {
   "cell_type": "code",
   "execution_count": 38,
   "metadata": {},
   "outputs": [],
   "source": [
    "import random\n",
    "import time\n",
    "\n",
    "def set_seed(seed_value=42):\n",
    "    \"\"\"Set seed for reproducibility.\n",
    "    \"\"\"\n",
    "    random.seed(seed_value)\n",
    "    np.random.seed(seed_value)\n",
    "    torch.manual_seed(seed_value)\n",
    "    torch.cuda.manual_seed_all(seed_value)\n",
    "\n",
    "def train(model, train_dataloader, optimizer, val_dataloader, epochs, evaluation):\n",
    "    \"\"\"Train the BertClassifier model.\n",
    "    \"\"\"\n",
    "\n",
    "#     val_accuracy_list = []\n",
    "#     train_accuracy_list = []\n",
    "    val_loss_list = []\n",
    "    train_loss_list = []\n",
    "\n",
    "    # Start training loop\n",
    "    print(\"Start training...\\n\")\n",
    "    for epoch_i in range(epochs):\n",
    "\n",
    "#         train_epoch_accuracy_list = []\n",
    "        train_epoch_loss_list = []\n",
    "        \n",
    "#         print(f\"{'Epoch':^7} | {'Batch':^7} | {'Train Loss':^12} | {'Val Loss':^10} | {'Elapsed':^9}\")\n",
    "#         print(\"-\"*70)\n",
    "\n",
    "        # Measure the elapsed time of each epoch\n",
    "        t0_epoch, t0_batch = time.time(), time.time()\n",
    "\n",
    "        # Reset tracking variables at the beginning of each epoch\n",
    "        total_loss, batch_loss, batch_counts = 0, 0, 0\n",
    "\n",
    "        # Put the model into the training mode\n",
    "        model.train()\n",
    "\n",
    "        # For each batch of training data...\n",
    "        for step, (data, targets) in enumerate(train_dataloader):\n",
    "            batch_counts +=1\n",
    "\n",
    "            model.zero_grad()\n",
    "\n",
    "            outputs = model(data.float())\n",
    "\n",
    "            loss = loss_fn(outputs, targets.float())\n",
    "            batch_loss += loss.item()\n",
    "            total_loss += loss.item()\n",
    "\n",
    "#             preds = torch.argmax(logits, dim=1).flatten()\n",
    "\n",
    "#             accuracy = (preds == b_labels).cpu().numpy().mean() * 100\n",
    "#             train_epoch_accuracy_list.append(accuracy)\n",
    "            train_epoch_loss_list.append(loss.item())\n",
    "\n",
    "\n",
    "            # Perform a backward pass to calculate gradients\n",
    "            loss.backward()\n",
    "\n",
    "            # Clip the norm of the gradients to 1.0 to prevent \"exploding gradients\"\n",
    "            torch.nn.utils.clip_grad_norm_(model.parameters(), 1.0)\n",
    "\n",
    "            # Update parameters and the learning rate\n",
    "            optimizer.step()\n",
    "#             scheduler.step()\n",
    "\n",
    "            # Print the loss values and time elapsed for every 20 batches\n",
    "            if (step % 20 == 0 and step != 0) or (step == len(train_dataloader) - 1):\n",
    "                # Calculate time elapsed for 20 batches\n",
    "                time_elapsed = time.time() - t0_batch\n",
    "\n",
    "                # Print training results\n",
    "#                 print(f\"{epoch_i + 1:^7} | {step:^7} | {batch_loss / batch_counts:^12.6f} | {'-':^10} | {'-':^9} | {time_elapsed:^9.2f}\")\n",
    "\n",
    "                # Reset batch tracking variables\n",
    "                batch_loss, batch_counts = 0, 0\n",
    "                t0_batch = time.time()\n",
    "\n",
    "        # Calculate the average loss over the entire training data\n",
    "        avg_train_loss = total_loss / len(train_dataloader)\n",
    "#         train_accuracy_list.append(np.mean(train_epoch_accuracy_list))\n",
    "        train_loss_list.append(np.mean(train_epoch_loss_list))\n",
    "\n",
    "#         print(\"-\"*70)\n",
    "\n",
    "        if evaluation == True:\n",
    "            # After the completion of each training epoch, measure the model's performance\n",
    "            # on our validation set.\n",
    "            val_loss = evaluate(model, val_dataloader)\n",
    "#             val_accuracy_list.append(val_accuracy)\n",
    "            val_loss_list.append(val_loss)\n",
    "\n",
    "            # Print performance over the entire training data\n",
    "            time_elapsed = time.time() - t0_epoch\n",
    "            \n",
    "#             print(f\"{epoch_i + 1:^7} | {'-':^7} | {avg_train_loss:^12.6f} | {val_loss:^10.6f} | {time_elapsed:^9.2f}\")\n",
    "#             print(\"-\"*70)\n",
    "#         print(\"\\n\")\n",
    "    \n",
    "    print(\"Training complete!\")\n",
    "    return train_loss_list, val_loss_list\n",
    "\n",
    "\n",
    "def evaluate(model, val_dataloader):\n",
    "    \"\"\"After the completion of each training epoch, measure the model's performance\n",
    "    on our validation set.\n",
    "    \"\"\"\n",
    "\n",
    "    model.eval()\n",
    "\n",
    "\n",
    "    val_loss = []\n",
    "\n",
    "\n",
    "    for data, targets in val_dataloader:\n",
    "\n",
    "\n",
    "\n",
    "        with torch.no_grad():\n",
    "            outputs = model(data.float())\n",
    "\n",
    "\n",
    "        loss = loss_fn(outputs, targets.float())\n",
    "        val_loss.append(loss.item())\n",
    "\n",
    "    val_loss = np.mean(val_loss)\n",
    "\n",
    "\n",
    "    return val_loss"
   ]
  },
  {
   "cell_type": "code",
   "execution_count": 39,
   "metadata": {},
   "outputs": [],
   "source": [
    "import torch.nn.functional as F\n",
    "\n",
    "def predict(model, test_dataloader):\n",
    "    \"\"\"Perform a forward pass on the trained BERT model to predict probabilities\n",
    "    on the test set.\n",
    "    \"\"\"\n",
    "    # Put the model into the evaluation mode. The dropout layers are disabled during\n",
    "    # the test time.\n",
    "    model.eval()\n",
    "\n",
    "    all_outputs = []\n",
    "\n",
    "    # For each batch in our test set...\n",
    "    for data, targets in test_dataloader:\n",
    "\n",
    "        # Compute logits\n",
    "        with torch.no_grad():\n",
    "            outputs = model(data.float())\n",
    "        all_outputs.append(outputs)\n",
    "    \n",
    "    # Concatenate logits from each batch\n",
    "    all_outputs = torch.cat(all_outputs, dim=0)\n",
    "\n",
    "    return all_outputs"
   ]
  },
  {
   "cell_type": "code",
   "execution_count": 40,
   "metadata": {},
   "outputs": [],
   "source": [
    "def test_model(model_name, epochs, hidden_dim, optimizer_name, dropout_rate):\n",
    "#     loss_fn = loss_function\n",
    "    set_seed(42)    # Set seed for reproducibility\n",
    "    \n",
    "    model, optimizer = initialize_model(\n",
    "        model_name=model_name, \n",
    "        n_features = 4, \n",
    "        hidden_dim = hidden_dim, \n",
    "        n_output = 1,\n",
    "        epochs=epochs,\n",
    "        optimizer_name=optimizer_name, \n",
    "        dropout_rate=dropout_rate\n",
    "    )\n",
    "    \n",
    "    start_time = time.time()\n",
    "    \n",
    "    train_loss_list, val_loss_list = train(\n",
    "        model=model,\n",
    "        train_dataloader=train_dataloader,\n",
    "        optimizer=optimizer,\n",
    "        val_dataloader=val_dataloader,\n",
    "        epochs=epochs,\n",
    "        evaluation=True\n",
    "    )\n",
    "    \n",
    "    end_time = time.time()\n",
    "    print('time elapsed: {}'.format(end_time - start_time))\n",
    "    print('the best loss on validation data: {}'.format(val_loss_list[-1]))\n",
    "    \n",
    "#     loss plots\n",
    "\n",
    "    fig, axs = plt.subplots(nrows=2, ncols=2, figsize=(18, 12))\n",
    "    plot_train_test_metric(train_loss_list, val_loss_list, \"epochs\", \"loss\", \"{} - loss for different epochs\".format(model_name), \"loss\", ax=axs[0, 0])\n",
    "    \n",
    "    \n",
    "#     val\n",
    "\n",
    "    outputs = predict(model, val_dataloader)\n",
    "    outputs_inversed = inverse_the_outputs(outputs, minMaxScaler)\n",
    "    plot_actual_vs_predicted(outputs_inversed, y_val_inversed, axs[0, 1], 'validation')\n",
    "    \n",
    "    \n",
    "#     test\n",
    "    \n",
    "    outputs = predict(model, test_dataloader)\n",
    "    outputs_inversed = inverse_the_outputs(outputs, minMaxScaler)\n",
    "    plot_actual_vs_predicted(outputs_inversed, y_test_inversed, axs[1, 0], 'test')\n",
    "    print('loss on the test data before the inversion of the transforms applied: {}'.format(evaluate(model, test_dataloader)))\n",
    "    print('actual rmse loss after inversion of the transforms applied: {}'.format(mean_squared_error(y_test_inversed, outputs_inversed, squared=False)))\n",
    "    print('actual mae loss after inversion of the transforms applied: {}'.format(mean_absolute_error(y_test_inversed, outputs_inversed)))\n",
    "    axs[1, 1].axis(\"off\")\n",
    "    fig.tight_layout()"
   ]
  },
  {
   "cell_type": "code",
   "execution_count": 41,
   "metadata": {},
   "outputs": [],
   "source": [
    "epochs = 50\n",
    "hidden_dim = [100, 50]"
   ]
  },
  {
   "cell_type": "code",
   "execution_count": 42,
   "metadata": {},
   "outputs": [],
   "source": [
    "y_val_inversed = inverse_the_outputs(y_val, minMaxScaler)\n",
    "y_test_inversed = inverse_the_outputs(y_test, minMaxScaler)"
   ]
  },
  {
   "cell_type": "code",
   "execution_count": 43,
   "metadata": {},
   "outputs": [
    {
     "name": "stdout",
     "output_type": "stream",
     "text": [
      "Start training...\n",
      "\n",
      "Training complete!\n",
      "time elapsed: 30.413686990737915\n",
      "the best loss on validation data: 0.00012034053088427754\n",
      "loss on the test data before the inversion of the transforms applied: 6.544171628775075e-05\n",
      "actual rmse loss after inversion of the transforms applied: 512.2768742418192\n",
      "actual mae loss after inversion of the transforms applied: 354.6659971000789\n"
     ]
    },
    {
     "data": {
      "image/png": "[encoded data removed]",
      "text/plain": [
       "<Figure size 1296x864 with 4 Axes>"
      ]
     },
     "metadata": {
      "needs_background": "light"
     },
     "output_type": "display_data"
    }
   ],
   "source": [
    "loss_fn = nn.MSELoss()\n",
    "test_model(\n",
    "    model_name='gru',\n",
    "    epochs=epochs, \n",
    "    hidden_dim=hidden_dim, \n",
    "    optimizer_name='adam', \n",
    "    dropout_rate=None\n",
    ")"
   ]
  }
 ],
 "metadata": {
  "colab": {
   "collapsed_sections": [],
   "name": "Mini-Project-Bitcoin-Price-Prediction-LSTM-RNN-GRU.ipynb",
   "provenance": []
  },
  "kernelspec": {
   "display_name": "Python 3",
   "language": "python",
   "name": "python3"
  },
  "language_info": {
   "codemirror_mode": {
    "name": "ipython",
    "version": 3
   },
   "file_extension": ".py",
   "mimetype": "text/x-python",
   "name": "python",
   "nbconvert_exporter": "python",
   "pygments_lexer": "ipython3",
   "version": "3.8.0"
  },
  "toc-autonumbering": false,
  "toc-showcode": false,
  "toc-showmarkdowntxt": false
 },
 "nbformat": 4,
 "nbformat_minor": 4
}
